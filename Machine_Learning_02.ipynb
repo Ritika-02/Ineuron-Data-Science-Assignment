{
 "cells": [
  {
   "cell_type": "code",
   "execution_count": null,
   "id": "fd3a6406",
   "metadata": {},
   "outputs": [],
   "source": [
    "import numpy as np\n",
    "import pandas as pd"
   ]
  },
  {
   "cell_type": "code",
   "execution_count": null,
   "id": "5d172c30",
   "metadata": {},
   "outputs": [],
   "source": [
    "data = pd.read_csv('Bengaluru_House_Data.csv')"
   ]
  },
  {
   "cell_type": "code",
   "execution_count": null,
   "id": "685ed643",
   "metadata": {},
   "outputs": [],
   "source": [
    "data"
   ]
  },
  {
   "cell_type": "code",
   "execution_count": null,
   "id": "72245fd9",
   "metadata": {},
   "outputs": [],
   "source": [
    "data.isnull().sum()"
   ]
  },
  {
   "cell_type": "code",
   "execution_count": null,
   "id": "6da6a6db",
   "metadata": {},
   "outputs": [],
   "source": [
    "data.info()\n"
   ]
  },
  {
   "cell_type": "code",
   "execution_count": null,
   "id": "a61194b6",
   "metadata": {},
   "outputs": [],
   "source": [
    "# Checking unique values for location, size, society, and total_sqft\n",
    "print(\"Unique values in 'location':\", data['location'].nunique())\n"
   ]
  },
  {
   "cell_type": "code",
   "execution_count": null,
   "id": "6a67124a",
   "metadata": {},
   "outputs": [],
   "source": [
    "print(\"Unique values in 'size':\", data['size'].nunique())\n",
    "print(\"Unique values in 'society':\", data['society'].nunique())\n",
    "print(\"Unique values in 'total_sqft':\", data['total_sqft'].nunique())"
   ]
  },
  {
   "cell_type": "code",
   "execution_count": null,
   "id": "33344b75",
   "metadata": {},
   "outputs": [],
   "source": [
    "import matplotlib.pyplot as plt\n",
    "import seaborn as sns"
   ]
  },
  {
   "cell_type": "code",
   "execution_count": null,
   "id": "c86deb49",
   "metadata": {},
   "outputs": [],
   "source": [
    "top_locations = data['location'].value_counts().nlargest(10)\n",
    "\n",
    "# Creating a bar plot\n",
    "top_locations.plot(kind='bar', color='blue')\n",
    "\n",
    "# Adding annotations on top of each bar\n",
    "for x, y in enumerate(top_locations):\n",
    "    plt.text(x, y, str(y), ha='center', va='bottom', color='blue')\n",
    "\n",
    "\n",
    "plt.title('Top 10 Most Visited Locations')\n",
    "plt.xlabel('Location')\n",
    "plt.ylabel('Count')\n",
    "\n",
    "\n",
    "plt.show()"
   ]
  },
  {
   "cell_type": "code",
   "execution_count": null,
   "id": "03ea707f",
   "metadata": {},
   "outputs": [],
   "source": [
    "top_society = data['society'].value_counts().nlargest(10)\n",
    "\n",
    "# Creating a bar plot\n",
    "top_society.plot(kind='bar', color='red')\n",
    "\n",
    "# Adding annotations on top of each bar\n",
    "for x, y in enumerate(top_society):\n",
    "    plt.text(x, y, str(y), ha='center', va='bottom', color='red')\n",
    "\n",
    "\n",
    "plt.title('Top 10 Society')\n",
    "plt.xlabel('Society')\n",
    "plt.ylabel('Count')\n",
    "\n",
    "\n",
    "plt.show()"
   ]
  },
  {
   "cell_type": "code",
   "execution_count": null,
   "id": "157a0bf5",
   "metadata": {},
   "outputs": [],
   "source": [
    "data['size'].fillna(value=data['size'].mode(), inplace=True)"
   ]
  },
  {
   "cell_type": "code",
   "execution_count": null,
   "id": "637baab3",
   "metadata": {},
   "outputs": [],
   "source": [
    "data['bath'].fillna(method='ffill', inplace=True)"
   ]
  },
  {
   "cell_type": "code",
   "execution_count": null,
   "id": "4cdc7b25",
   "metadata": {},
   "outputs": [],
   "source": [
    "data['balcony'].fillna(method='ffill', inplace=True)"
   ]
  },
  {
   "cell_type": "code",
   "execution_count": null,
   "id": "3300f8b9",
   "metadata": {},
   "outputs": [],
   "source": [
    "data.info()"
   ]
  },
  {
   "cell_type": "code",
   "execution_count": null,
   "id": "1d4a23a7",
   "metadata": {},
   "outputs": [],
   "source": [
    "# converting object to float\n",
    "data['total_sqft'] = pd.to_numeric(data['total_sqft'], errors='coerce')"
   ]
  },
  {
   "cell_type": "code",
   "execution_count": null,
   "id": "b1d50ec3",
   "metadata": {},
   "outputs": [],
   "source": [
    "#dropping columns\n",
    "data = data.drop(columns=['society', 'location', 'availability'])"
   ]
  },
  {
   "cell_type": "code",
   "execution_count": null,
   "id": "455a8e20",
   "metadata": {},
   "outputs": [],
   "source": [
    "data.isnull().sum()"
   ]
  },
  {
   "cell_type": "code",
   "execution_count": null,
   "id": "309e9805",
   "metadata": {},
   "outputs": [],
   "source": [
    "data.dropna(inplace=True)"
   ]
  },
  {
   "cell_type": "code",
   "execution_count": null,
   "id": "7d7ef0c7",
   "metadata": {},
   "outputs": [],
   "source": [
    "data.hist(figsize=(10,8))\n",
    "plt.show()"
   ]
  },
  {
   "cell_type": "code",
   "execution_count": null,
   "id": "a19aabe4",
   "metadata": {},
   "outputs": [],
   "source": [
    "data['sqft_price'] = data['total_sqft'] * data['price']"
   ]
  },
  {
   "cell_type": "code",
   "execution_count": null,
   "id": "659befd0",
   "metadata": {},
   "outputs": [],
   "source": [
    "data"
   ]
  },
  {
   "cell_type": "code",
   "execution_count": null,
   "id": "be5a679e",
   "metadata": {},
   "outputs": [],
   "source": [
    "data = pd.get_dummies(data, columns = ['area_type','size'], drop_first= True)"
   ]
  },
  {
   "cell_type": "code",
   "execution_count": null,
   "id": "aef3a3bf",
   "metadata": {},
   "outputs": [],
   "source": [
    "X = data.drop(['price'], axis = 1)"
   ]
  },
  {
   "cell_type": "code",
   "execution_count": null,
   "id": "6d7931cf",
   "metadata": {},
   "outputs": [],
   "source": [
    "y = data['price']"
   ]
  },
  {
   "cell_type": "code",
   "execution_count": null,
   "id": "24a09d3d",
   "metadata": {},
   "outputs": [],
   "source": [
    "X"
   ]
  },
  {
   "cell_type": "code",
   "execution_count": null,
   "id": "33130c35",
   "metadata": {},
   "outputs": [],
   "source": [
    "from sklearn.model_selection import train_test_split\n",
    "\n",
    "X_train,X_test, y_train, y_test = train_test_split(X,y,test_size=0.25, random_state=42)"
   ]
  },
  {
   "cell_type": "code",
   "execution_count": null,
   "id": "96547d5b",
   "metadata": {},
   "outputs": [],
   "source": [
    "from sklearn.svm import SVR"
   ]
  },
  {
   "cell_type": "code",
   "execution_count": null,
   "id": "06a39083",
   "metadata": {},
   "outputs": [],
   "source": [
    "SVM_regressor = SVR(kernel = 'linear')"
   ]
  },
  {
   "cell_type": "code",
   "execution_count": null,
   "id": "e5e3330d",
   "metadata": {},
   "outputs": [],
   "source": [
    "X_train_scaled = scaler.fit_transform(X_train)"
   ]
  },
  {
   "cell_type": "code",
   "execution_count": null,
   "id": "17121af8",
   "metadata": {},
   "outputs": [],
   "source": [
    "svm_regressor.fit(X_train_scaled,y_train)"
   ]
  },
  {
   "cell_type": "code",
   "execution_count": null,
   "id": "13ea09dd",
   "metadata": {},
   "outputs": [],
   "source": [
    "y_pred = svm_regressor.predict(X_test)"
   ]
  },
  {
   "cell_type": "code",
   "execution_count": null,
   "id": "45b550f5",
   "metadata": {},
   "outputs": [],
   "source": [
    "from sklearn.metrics import mean_squared_error\n",
    "\n",
    "mse = mean_squared_error(y_test,y_pred)\n",
    "mse"
   ]
  },
  {
   "cell_type": "code",
   "execution_count": null,
   "id": "dde4ea02",
   "metadata": {},
   "outputs": [],
   "source": [
    "r2 = svm_regressor.score(X_test, y_test)\n",
    "r2"
   ]
  }
 ],
 "metadata": {
  "kernelspec": {
   "display_name": "Python 3 (ipykernel)",
   "language": "python",
   "name": "python3"
  },
  "language_info": {
   "codemirror_mode": {
    "name": "ipython",
    "version": 3
   },
   "file_extension": ".py",
   "mimetype": "text/x-python",
   "name": "python",
   "nbconvert_exporter": "python",
   "pygments_lexer": "ipython3",
   "version": "3.11.3"
  }
 },
 "nbformat": 4,
 "nbformat_minor": 5
}
